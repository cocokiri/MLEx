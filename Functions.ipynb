{
 "cells": [
  {
   "cell_type": "code",
   "execution_count": 1,
   "metadata": {
    "collapsed": true
   },
   "outputs": [],
   "source": [
    "def integration(x,w,b): #input and weights as vectors.\n",
    "    weighted_sum = sum(x[k] * w[k] for k in xrange(0,len(x)))\n",
    "    return weighted_sum + b\n",
    "#sum of ELEMENTWISE (not all * all) multiplication => DOT PRODUCT"
   ]
  },
  {
   "cell_type": "code",
   "execution_count": null,
   "metadata": {
    "collapsed": true
   },
   "outputs": [],
   "source": [
    "def magnitude(x): #Magnitude of vector \n",
    "    #https://brilliant.org/practice/vectors-for-neural-networks/?p=5\n",
    "    return sum(k**2 for k in x)**0.5"
   ]
  }
 ],
 "metadata": {
  "kernelspec": {
   "display_name": "Python 3",
   "language": "python",
   "name": "python3"
  },
  "language_info": {
   "codemirror_mode": {
    "name": "ipython",
    "version": 3
   },
   "file_extension": ".py",
   "mimetype": "text/x-python",
   "name": "python",
   "nbconvert_exporter": "python",
   "pygments_lexer": "ipython3",
   "version": "3.6.1"
  }
 },
 "nbformat": 4,
 "nbformat_minor": 2
}
